{
 "cells": [
  {
   "cell_type": "code",
   "execution_count": 1,
   "metadata": {
    "pycharm": {
     "is_executing": false
    }
   },
   "outputs": [
    {
     "name": "stderr",
     "text": [
      "c:\\users\\betul\\appdata\\local\\programs\\python\\python38-32\\lib\\site-packages\\networkx\\drawing\\nx_pylab.py:563: MatplotlibDeprecationWarning: \nThe iterable function was deprecated in Matplotlib 3.1 and will be removed in 3.3. Use np.iterable instead.\n  if not cb.iterable(width):\nc:\\users\\betul\\appdata\\local\\programs\\python\\python38-32\\lib\\site-packages\\networkx\\drawing\\nx_pylab.py:611: MatplotlibDeprecationWarning: \nThe is_numlike function was deprecated in Matplotlib 3.0 and will be removed in 3.2. Use isinstance(..., numbers.Number) instead.\n  if cb.is_numlike(alpha):\n"
     ],
     "output_type": "stream"
    },
    {
     "data": {
      "text/plain": "<Figure size 432x288 with 1 Axes>",
      "image/png": "[encoded data removed]"
     },
     "metadata": {},
     "output_type": "display_data"
    },
    {
     "name": "stdout",
     "text": [
      "The edge (1, 2) weight 5.999999999999999\nThe edge (1, 3) weight 10.666666666666666\nThe edge (2, 4) weight 9.333333333333332\nThe edge (3, 4) weight 9.0\nThe edge (3, 5) weight 14.333333333333332\nThe edge (4, 6) weight 9.666666666666666\nThe edge (5, 6) weight 9.0\nThe edge (5, 7) weight 12.0\nMax 14.333333333333332\nThe edge (1, 2) weight 7.0\nThe edge (1, 3) weight 7.0\nThe edge (2, 4) weight 13.0\nThe edge (3, 4) weight 13.0\nThe edge (4, 6) weight 24.0\nThe edge (5, 6) weight 20.0\nThe edge (5, 7) weight 12.0\nMax 24.0\n"
     ],
     "output_type": "stream"
    },
    {
     "data": {
      "text/plain": "<Figure size 432x288 with 1 Axes>",
      "image/png": "[encoded data removed]"
     },
     "metadata": {},
     "output_type": "display_data"
    }
   ],
   "source": [
    "import matplotlib.pyplot as plt\n",
    "import networkx as nx\n",
    "\n",
    "def readGraphFrom():\n",
    "    #read graph from txt file\n",
    "    G = nx.read_edgelist(\"graph.txt\", create_using=nx.Graph(), nodetype=int)\n",
    "    return G\n",
    "\n",
    "def edgeBetwennness(G):\n",
    "    for root in G:\n",
    "        #print(root)\n",
    "        #I took SPG above the for loop\n",
    "        for vertex in G:\n",
    "            for shortest_path in nx.all_shortest_paths(G, source=vertex, target=root):\n",
    "                #print(shortest_path)\n",
    "                 SPG.add_path(shortest_path)\n",
    "                #print([p for p in nx.all_shortest_paths(G, source=vertex, target=1)])\n",
    "        #nx.draw(SPG)\n",
    "        #plt.show()\n",
    "\n",
    "        max_distance = 0\n",
    "        for node in SPG:\n",
    "            if node==root:\n",
    "                attrs = {node: {'distance': 0, 'weight': 1}}\n",
    "            else:\n",
    "                distance = nx.shortest_path_length(SPG, source=root, target=node)\n",
    "                if distance > max_distance:\n",
    "                    max_distance = distance\n",
    "                attrs = {node: {'distance': distance, 'weight': len(list(nx.all_shortest_paths(SPG, source=root, target=node)))}}\n",
    "            nx.set_node_attributes(SPG, attrs)\n",
    "\n",
    "        #for node in SPG:\n",
    "            #print(SPG.nodes[node]['distance'])\n",
    "            #print(SPG.nodes[node]['weight'])\n",
    "\n",
    "        for leaf in SPG:\n",
    "            if SPG.nodes[leaf]['distance'] == max_distance:\n",
    "                for node1, node2 in SPG.edges(leaf):\n",
    "                    if node1 == leaf:\n",
    "                        neighbor = node2\n",
    "                    else:\n",
    "                        neighbor = node1\n",
    "                    attrs = {(node1, node2): {root: SPG.nodes[neighbor]['weight']/SPG.nodes[leaf]['weight']}}\n",
    "                    nx.set_edge_attributes(SPG, attrs)\n",
    "\n",
    "\n",
    "        #print(SPG.edges[5, 6][1])\n",
    "        #print(SPG.edges[4, 6][1])\n",
    "        #print(SPG.edges[5, 7][1])\n",
    "\n",
    "        while max_distance > 1:\n",
    "            max_distance = max_distance-1\n",
    "            for node in SPG:\n",
    "                if SPG.nodes[node]['distance'] == max_distance:\n",
    "                    #print(node)\n",
    "                    for node1, node2 in SPG.edges(node):\n",
    "                        if node1 == node:\n",
    "                            neighborUP = node2\n",
    "                        else:\n",
    "                            neighborUP = node1\n",
    "                        if SPG.nodes[neighborUP]['distance'] == max_distance - 1:\n",
    "                            sum_of_scores = 0\n",
    "                            for node11, node22 in SPG.edges(node):\n",
    "                                if node11 == node:\n",
    "                                    neighborDOWN = node22\n",
    "                                else:\n",
    "                                    neighborDOWN = node11\n",
    "                                if SPG.nodes[neighborDOWN]['distance'] == max_distance + 1:\n",
    "                                    sum_of_scores = sum_of_scores + SPG.edges[neighborDOWN, node][root]\n",
    "                            #print(sum_of_scores)\n",
    "                            #print((1 + sum_of_scores)*SPG.nodes[neighborUP]['weight']/SPG.nodes[node]['weight'])\n",
    "                            attrs = {(node, neighborUP): {root: (1 + sum_of_scores)*SPG.nodes[neighborUP]['weight']/SPG.nodes[node]['weight']}}\n",
    "                            nx.set_edge_attributes(SPG, attrs)\n",
    "\n",
    "        #for edge in SPG.edges:\n",
    "            #print(edge)\n",
    "            #print(SPG.edges[edge][root])\n",
    "    return SPG\n",
    "\n",
    "\n",
    "def fullEdgeBetwennness(SPG):\n",
    "    for edge in SPG.edges:\n",
    "        attrs = {edge: {'weight': 0.0}}\n",
    "        nx.set_edge_attributes(SPG, attrs)\n",
    "        #print(edge)\n",
    "        for root in G: \n",
    "            #print(root)\n",
    "            #print(edge)\n",
    "            #print(SPG.edges[edge][root])\n",
    "            #print(\"Root\", root, \"-> \", SPG.edges[edge]['weight'], \"=\", SPG.edges[edge][root], \"+\",SPG.edges[edge]['weight'])\n",
    "            SPG.edges[edge]['weight'] = SPG.edges[edge][root] + SPG.edges[edge]['weight']\n",
    "        #print(\"The edge\", edge, \"weight\", SPG.edges[edge]['weight'])\n",
    "    return SPG\n",
    "\n",
    "def maxScoreEdge(SPG):\n",
    "    maxScore = 0.0\n",
    "    for edge in SPG.edges:\n",
    "        if maxScore < SPG.edges[edge]['weight']:\n",
    "            maxScore = SPG.edges[edge]['weight']\n",
    "            edgeRemove = edge\n",
    "    return maxScore\n",
    "\n",
    "def removeEdge(maxScore, SPG):\n",
    "    cSPG = SPG.copy()\n",
    "    for edge in cSPG.edges:\n",
    "        if cSPG.edges[edge]['weight'] == maxScore:\n",
    "            SPG.remove_edge(*edge)\n",
    "    return SPG\n",
    "\n",
    "G = readGraphFrom()\n",
    "nx.draw(G)\n",
    "plt.show()\n",
    "SPG = nx.Graph()\n",
    "#it crushes if we run the code more than 2 times\n",
    "for i in range(2):\n",
    "    SPG = edgeBetwennness(G)\n",
    "    SPG = fullEdgeBetwennness(SPG)\n",
    "    maxScore = maxScoreEdge(SPG)\n",
    "    #print(\"Max\", maxScore)\n",
    "    SPG = removeEdge(maxScore, SPG)\n",
    "    G = SPG.copy()\n",
    "\n",
    "nx.draw(SPG)\n",
    "\n",
    "\n",
    "\n"
   ]
  },
  {
   "cell_type": "code",
   "execution_count": 1,
   "metadata": {
    "pycharm": {
     "is_executing": false
    }
   },
   "outputs": [],
   "source": []
  },
  {
   "cell_type": "code",
   "execution_count": 1,
   "metadata": {
    "pycharm": {
     "is_executing": false
    }
   },
   "outputs": [],
   "source": []
  }
 ],
 "metadata": {
  "kernelspec": {
   "display_name": "Python 3",
   "language": "python",
   "name": "python3"
  },
  "language_info": {
   "codemirror_mode": {
    "name": "ipython",
    "version": 3
   },
   "file_extension": ".py",
   "mimetype": "text/x-python",
   "name": "python",
   "nbconvert_exporter": "python",
   "pygments_lexer": "ipython3",
   "version": "3.7.3"
  },
  "pycharm": {
   "stem_cell": {
    "cell_type": "raw",
    "source": [],
    "metadata": {
     "collapsed": false
    }
   }
  }
 },
 "nbformat": 4,
 "nbformat_minor": 1
}